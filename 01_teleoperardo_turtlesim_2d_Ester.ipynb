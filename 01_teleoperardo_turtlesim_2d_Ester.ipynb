{
  "nbformat": 4,
  "nbformat_minor": 0,
  "metadata": {
    "colab": {
      "provenance": [],
      "collapsed_sections": [],
      "toc_visible": true,
      "authorship_tag": "ABX9TyO4nKVby4tD0FapcbGRF088",
      "include_colab_link": true
    },
    "kernelspec": {
      "name": "python3",
      "display_name": "Python 3"
    },
    "language_info": {
      "name": "python"
    }
  },
  "cells": [
    {
      "cell_type": "markdown",
      "metadata": {
        "id": "view-in-github",
        "colab_type": "text"
      },
      "source": [
        "<a href=\"https://colab.research.google.com/github/NestorBalich/curso-basico-de-python-para-robotica/blob/main/01_teleoperardo_turtlesim_2d_Ester.ipynb\" target=\"_parent\"><img src=\"https://colab.research.google.com/assets/colab-badge.svg\" alt=\"Open In Colab\"/></a>"
      ]
    },
    {
      "cell_type": "markdown",
      "source": [
        "# Instalando libreria PAHO MQTT\n",
        "Esta libreria nos permite utilizar el protocolo MqTT en nuestro programa"
      ],
      "metadata": {
        "id": "NAOfibAx17OF"
      }
    },
    {
      "cell_type": "code",
      "execution_count": 1,
      "metadata": {
        "id": "kNznmbwJi45e"
      },
      "outputs": [],
      "source": [
        "!pip  install -qq paho-mqtt"
      ]
    },
    {
      "cell_type": "markdown",
      "source": [
        "# Creamos funciones de comunicación\n",
        "Estas que utilizaremos para gestionar la comunicación por MqTT"
      ],
      "metadata": {
        "id": "poY6IuqC2To1"
      }
    },
    {
      "cell_type": "code",
      "source": [
        "import paho.mqtt.client\n",
        "import json\n",
        "\n",
        "class c_comunication():\n",
        "\tdef __init__(self,host,port,my_id,topic_in,topic_out):\n",
        "\t\tsuper().__init__()\t\n",
        "\t\tself.my_id = my_id\n",
        "\t\tself.topic_in = topic_in\n",
        "\t\tself.topic_out = topic_out\n",
        "\t\tself.client = paho.mqtt.client.Client(client_id=my_id, clean_session=False)\n",
        "\t\tself.client.on_connect = self.on_connect\n",
        "\t\tself.client.on_message = self.on_message \n",
        "\t\tself.client.connect(host=host, port=port)\n",
        "\t\tself.client.loop_start()\n",
        "\t\tself.client.subscribe(self.topic_in)\n",
        "\t\n",
        "\tdef on_connect(self,userdata, flags, rc):\n",
        "\t\t\tif rc==0:\n",
        "\t\t\t\tstatus = rc\n",
        "\t\t\t\tself.client.subscribe(topic=self.topic_in, qos=2)        #escucha mensajes para el\n",
        "\t\t\telse:\n",
        "\t\t\t\tself.connected_flag=False\n",
        "\n",
        "\tdef on_message(self,userdata, message):\n",
        "\t\t\t\t# dictionary ={\n",
        "\t\t\t\t\t#     \"topic\": message.topic,\n",
        "\t\t\t\t\t#     \"payload\": json.loads(message.payload),\n",
        "\t\t\t\t\t#    \"qos\":(message.payload.decode(\"utf-8\"))\n",
        "\t\t\t\t\t#}\n",
        "\t\t\t\t\t#print(dictionary)\n",
        "\t\t\t\t\tjsons = json.loads(message.payload)  # transforma una cadena a objeto json\n",
        "\t\t\t\t\tself.g_msg_rx = jsons\n",
        "\t\t\t\t\tself.g_datain_rx = True\n",
        "\n",
        "\tdef get_message_received(self):\n",
        "\t\t\tmessage = None\n",
        "\t\t\tif self.message_received:\n",
        "\t\t\t\tself.message_received = False\n",
        "\t\t\t\tmessage = self.message_rx\n",
        "\t\t\t\tself.message_rx = \"\"\n",
        "\t\t\t\n",
        "\t\t\treturn message\n",
        "\n",
        "\tdef publish(self,robot_id,comando,message=\"\"):\n",
        "\t\t\t\tdictionary = {\n",
        "\t\t\t\t\t\t\"my_id\": self.my_id,\n",
        "\t\t\t\t\t\t\"robot_id\": robot_id,\n",
        "\t\t\t\t\t\t\"comando\": comando,\n",
        "\t\t\t\t\t\t\"message\": message\n",
        "\t\t\t\t\t\t}\n",
        "\t\t\t\tmsg = json.dumps(dictionary)\n",
        "\n",
        "\t\t\t\tresult = self.client.publish(self.topic_out,msg)\n",
        "\t\t\t\tstatus = result[0]\n",
        "\t\t\t\tif status == 0:\n",
        "\t\t\t\t\tprint(f\"Send `{msg}` to topic `{self.topic_out}`\")\n",
        "\t\t\t\telse:\n",
        "\t\t\t\t\tprint(f\"Failed to send message {msg} to topic {self.topic_out}\")\n",
        "\t\t \n"
      ],
      "metadata": {
        "id": "Z0MVFhMT_TNz"
      },
      "execution_count": 2,
      "outputs": []
    },
    {
      "cell_type": "markdown",
      "source": [
        "# Instanciamos la clase de comunicación "
      ],
      "metadata": {
        "id": "rzBpbguP2Jf7"
      }
    },
    {
      "cell_type": "markdown",
      "source": [],
      "metadata": {
        "id": "bKxWm9c2_0QS"
      }
    },
    {
      "cell_type": "code",
      "source": [
        "mqtt = c_comunication(\"8.219.78.29\",1883,\"002\",\"TELEOPERADOR_001\",\"TOURTLESIM_001\")"
      ],
      "metadata": {
        "id": "-cnu3EIhZAn5"
      },
      "execution_count": 3,
      "outputs": []
    },
    {
      "cell_type": "markdown",
      "source": [
        "# Importamos libreria time para controlar retardos"
      ],
      "metadata": {
        "id": "-eMq4uP1_t8H"
      }
    },
    {
      "cell_type": "code",
      "source": [
        "import time\n",
        "RETARDO=0.5"
      ],
      "metadata": {
        "id": "GW_5-K2J2FQE"
      },
      "execution_count": 4,
      "outputs": []
    },
    {
      "cell_type": "code",
      "source": [
        "for x  in range(1,6):\n",
        "  mqtt.publish(str(x),\"inicio\")\n",
        "  time.sleep(RETARDO)"
      ],
      "metadata": {
        "colab": {
          "base_uri": "https://localhost:8080/"
        },
        "id": "wp6ku8XgnuCc",
        "outputId": "babfef22-8571-4424-ae52-2ca80bcf82c9"
      },
      "execution_count": 5,
      "outputs": [
        {
          "output_type": "stream",
          "name": "stdout",
          "text": [
            "Send `{\"my_id\": \"002\", \"robot_id\": \"1\", \"comando\": \"inicio\", \"message\": \"\"}` to topic `TOURTLESIM_001`\n",
            "Send `{\"my_id\": \"002\", \"robot_id\": \"2\", \"comando\": \"inicio\", \"message\": \"\"}` to topic `TOURTLESIM_001`\n",
            "Send `{\"my_id\": \"002\", \"robot_id\": \"3\", \"comando\": \"inicio\", \"message\": \"\"}` to topic `TOURTLESIM_001`\n",
            "Send `{\"my_id\": \"002\", \"robot_id\": \"4\", \"comando\": \"inicio\", \"message\": \"\"}` to topic `TOURTLESIM_001`\n",
            "Send `{\"my_id\": \"002\", \"robot_id\": \"5\", \"comando\": \"inicio\", \"message\": \"\"}` to topic `TOURTLESIM_001`\n"
          ]
        }
      ]
    },
    {
      "cell_type": "code",
      "source": [
        "mqtt.publish(\"1\",\"abajo\")"
      ],
      "metadata": {
        "colab": {
          "base_uri": "https://localhost:8080/"
        },
        "id": "R3qlnfgSqa4F",
        "outputId": "d07c0591-ba85-4f88-85bb-52f0ac49dd67"
      },
      "execution_count": 6,
      "outputs": [
        {
          "output_type": "stream",
          "name": "stdout",
          "text": [
            "Send `{\"my_id\": \"002\", \"robot_id\": \"1\", \"comando\": \"abajo\", \"message\": \"\"}` to topic `TOURTLESIM_001`\n"
          ]
        }
      ]
    },
    {
      "cell_type": "code",
      "source": [
        "mqtt.publish(\"1\",\"mensaje\",\"hola Franco Como andas?\")"
      ],
      "metadata": {
        "colab": {
          "base_uri": "https://localhost:8080/"
        },
        "id": "JiWODjPlnJtX",
        "outputId": "004d3941-e711-4b11-c2b2-5c02c7c4bee8"
      },
      "execution_count": 7,
      "outputs": [
        {
          "output_type": "stream",
          "name": "stdout",
          "text": [
            "Send `{\"my_id\": \"002\", \"robot_id\": \"1\", \"comando\": \"mensaje\", \"message\": \"hola Franco Como andas?\"}` to topic `TOURTLESIM_001`\n"
          ]
        }
      ]
    },
    {
      "cell_type": "code",
      "source": [
        "mqtt.publish(\"1\",\"abajo\")"
      ],
      "metadata": {
        "colab": {
          "base_uri": "https://localhost:8080/"
        },
        "id": "UI2vIB5hq_1y",
        "outputId": "ba4dd9c6-9042-442e-a670-9a69bd8e543d"
      },
      "execution_count": 8,
      "outputs": [
        {
          "output_type": "stream",
          "name": "stdout",
          "text": [
            "Send `{\"my_id\": \"002\", \"robot_id\": \"1\", \"comando\": \"abajo\", \"message\": \"\"}` to topic `TOURTLESIM_001`\n"
          ]
        }
      ]
    },
    {
      "cell_type": "code",
      "source": [
        "mqtt.publish(\"1\",\"rotar\",\"0\")"
      ],
      "metadata": {
        "colab": {
          "base_uri": "https://localhost:8080/"
        },
        "id": "-LopI2znoaE2",
        "outputId": "4e794fd0-042f-4a87-a47d-11b7b7a31080"
      },
      "execution_count": 9,
      "outputs": [
        {
          "output_type": "stream",
          "name": "stdout",
          "text": [
            "Send `{\"my_id\": \"002\", \"robot_id\": \"1\", \"comando\": \"rotar\", \"message\": \"0\"}` to topic `TOURTLESIM_001`\n"
          ]
        }
      ]
    },
    {
      "cell_type": "code",
      "source": [
        "mqtt.publish(\"1\",\"avanzar\")"
      ],
      "metadata": {
        "colab": {
          "base_uri": "https://localhost:8080/"
        },
        "id": "3pKdqoPLymIZ",
        "outputId": "16f51c2e-8f48-45a1-fa5f-c8266119d219"
      },
      "execution_count": 10,
      "outputs": [
        {
          "output_type": "stream",
          "name": "stdout",
          "text": [
            "Send `{\"my_id\": \"002\", \"robot_id\": \"1\", \"comando\": \"avanzar\", \"message\": \"\"}` to topic `TOURTLESIM_001`\n"
          ]
        }
      ]
    },
    {
      "cell_type": "code",
      "source": [
        "mqtt.publish(\"1\",\"retroceder\")"
      ],
      "metadata": {
        "colab": {
          "base_uri": "https://localhost:8080/"
        },
        "id": "AvX-BGjgz8kE",
        "outputId": "0829d9c6-ed76-454f-b95b-4e2f51a605c7"
      },
      "execution_count": 11,
      "outputs": [
        {
          "output_type": "stream",
          "name": "stdout",
          "text": [
            "Send `{\"my_id\": \"002\", \"robot_id\": \"1\", \"comando\": \"retroceder\", \"message\": \"\"}` to topic `TOURTLESIM_001`\n"
          ]
        }
      ]
    },
    {
      "cell_type": "code",
      "source": [
        "mqtt.publish(\"3\",\"derecha\")\n",
        "time.sleep(RETARDO)\n",
        "mqtt.publish(\"3\",\"avanzar\")\n",
        "time.sleep(RETARDO)"
      ],
      "metadata": {
        "colab": {
          "base_uri": "https://localhost:8080/"
        },
        "id": "Qi_8BT2AEQF_",
        "outputId": "1297851b-57c0-4986-9512-0b0abbf23c07"
      },
      "execution_count": 12,
      "outputs": [
        {
          "output_type": "stream",
          "name": "stdout",
          "text": [
            "Send `{\"my_id\": \"002\", \"robot_id\": \"3\", \"comando\": \"derecha\", \"message\": \"\"}` to topic `TOURTLESIM_001`\n",
            "Send `{\"my_id\": \"002\", \"robot_id\": \"3\", \"comando\": \"avanzar\", \"message\": \"\"}` to topic `TOURTLESIM_001`\n"
          ]
        }
      ]
    },
    {
      "cell_type": "code",
      "source": [
        "mqtt.publish(\"2\",\"derecha\")\n",
        "time.sleep(RETARDO)\n",
        "mqtt.publish(\"2\",\"derecha\")\n",
        "time.sleep(RETARDO)\n",
        "mqtt.publish(\"2\",\"derecha\")\n",
        "time.sleep(RETARDO)\n",
        "mqtt.publish(\"2\",\"abajo\")\n",
        "time.sleep(RETARDO)\n",
        "mqtt.publish(\"2\",\"abajo\")\n",
        "time.sleep(RETARDO)"
      ],
      "metadata": {
        "colab": {
          "base_uri": "https://localhost:8080/"
        },
        "id": "C8nqqrX3DtxV",
        "outputId": "5883decf-bb4b-48ce-acbe-ced55cccf88b"
      },
      "execution_count": 13,
      "outputs": [
        {
          "output_type": "stream",
          "name": "stdout",
          "text": [
            "Send `{\"my_id\": \"002\", \"robot_id\": \"2\", \"comando\": \"derecha\", \"message\": \"\"}` to topic `TOURTLESIM_001`\n",
            "Send `{\"my_id\": \"002\", \"robot_id\": \"2\", \"comando\": \"derecha\", \"message\": \"\"}` to topic `TOURTLESIM_001`\n",
            "Send `{\"my_id\": \"002\", \"robot_id\": \"2\", \"comando\": \"derecha\", \"message\": \"\"}` to topic `TOURTLESIM_001`\n",
            "Send `{\"my_id\": \"002\", \"robot_id\": \"2\", \"comando\": \"abajo\", \"message\": \"\"}` to topic `TOURTLESIM_001`\n",
            "Send `{\"my_id\": \"002\", \"robot_id\": \"2\", \"comando\": \"abajo\", \"message\": \"\"}` to topic `TOURTLESIM_001`\n"
          ]
        }
      ]
    },
    {
      "cell_type": "code",
      "source": [
        "mqtt.publish(\"5\",\"inicio\")\n",
        "for x in range(0,12):\n",
        "  mqtt.publish(\"5\",\"derecha\")\n",
        "  time.sleep(RETARDO)\n",
        "  mqtt.publish(\"5\",\"abajo\")\n",
        "  time.sleep(RETARDO)"
      ],
      "metadata": {
        "colab": {
          "base_uri": "https://localhost:8080/"
        },
        "id": "wVUAS_pxEXIs",
        "outputId": "62ed9e23-558d-42bd-c6cf-d2170119d8fd"
      },
      "execution_count": 14,
      "outputs": [
        {
          "output_type": "stream",
          "name": "stdout",
          "text": [
            "Send `{\"my_id\": \"002\", \"robot_id\": \"5\", \"comando\": \"inicio\", \"message\": \"\"}` to topic `TOURTLESIM_001`\n",
            "Send `{\"my_id\": \"002\", \"robot_id\": \"5\", \"comando\": \"derecha\", \"message\": \"\"}` to topic `TOURTLESIM_001`\n",
            "Send `{\"my_id\": \"002\", \"robot_id\": \"5\", \"comando\": \"abajo\", \"message\": \"\"}` to topic `TOURTLESIM_001`\n",
            "Send `{\"my_id\": \"002\", \"robot_id\": \"5\", \"comando\": \"derecha\", \"message\": \"\"}` to topic `TOURTLESIM_001`\n",
            "Send `{\"my_id\": \"002\", \"robot_id\": \"5\", \"comando\": \"abajo\", \"message\": \"\"}` to topic `TOURTLESIM_001`\n",
            "Send `{\"my_id\": \"002\", \"robot_id\": \"5\", \"comando\": \"derecha\", \"message\": \"\"}` to topic `TOURTLESIM_001`\n",
            "Send `{\"my_id\": \"002\", \"robot_id\": \"5\", \"comando\": \"abajo\", \"message\": \"\"}` to topic `TOURTLESIM_001`\n",
            "Send `{\"my_id\": \"002\", \"robot_id\": \"5\", \"comando\": \"derecha\", \"message\": \"\"}` to topic `TOURTLESIM_001`\n",
            "Send `{\"my_id\": \"002\", \"robot_id\": \"5\", \"comando\": \"abajo\", \"message\": \"\"}` to topic `TOURTLESIM_001`\n",
            "Send `{\"my_id\": \"002\", \"robot_id\": \"5\", \"comando\": \"derecha\", \"message\": \"\"}` to topic `TOURTLESIM_001`\n",
            "Send `{\"my_id\": \"002\", \"robot_id\": \"5\", \"comando\": \"abajo\", \"message\": \"\"}` to topic `TOURTLESIM_001`\n",
            "Send `{\"my_id\": \"002\", \"robot_id\": \"5\", \"comando\": \"derecha\", \"message\": \"\"}` to topic `TOURTLESIM_001`\n",
            "Send `{\"my_id\": \"002\", \"robot_id\": \"5\", \"comando\": \"abajo\", \"message\": \"\"}` to topic `TOURTLESIM_001`\n",
            "Send `{\"my_id\": \"002\", \"robot_id\": \"5\", \"comando\": \"derecha\", \"message\": \"\"}` to topic `TOURTLESIM_001`\n",
            "Send `{\"my_id\": \"002\", \"robot_id\": \"5\", \"comando\": \"abajo\", \"message\": \"\"}` to topic `TOURTLESIM_001`\n",
            "Send `{\"my_id\": \"002\", \"robot_id\": \"5\", \"comando\": \"derecha\", \"message\": \"\"}` to topic `TOURTLESIM_001`\n",
            "Send `{\"my_id\": \"002\", \"robot_id\": \"5\", \"comando\": \"abajo\", \"message\": \"\"}` to topic `TOURTLESIM_001`\n",
            "Send `{\"my_id\": \"002\", \"robot_id\": \"5\", \"comando\": \"derecha\", \"message\": \"\"}` to topic `TOURTLESIM_001`\n",
            "Send `{\"my_id\": \"002\", \"robot_id\": \"5\", \"comando\": \"abajo\", \"message\": \"\"}` to topic `TOURTLESIM_001`\n",
            "Send `{\"my_id\": \"002\", \"robot_id\": \"5\", \"comando\": \"derecha\", \"message\": \"\"}` to topic `TOURTLESIM_001`\n",
            "Send `{\"my_id\": \"002\", \"robot_id\": \"5\", \"comando\": \"abajo\", \"message\": \"\"}` to topic `TOURTLESIM_001`\n",
            "Send `{\"my_id\": \"002\", \"robot_id\": \"5\", \"comando\": \"derecha\", \"message\": \"\"}` to topic `TOURTLESIM_001`\n",
            "Send `{\"my_id\": \"002\", \"robot_id\": \"5\", \"comando\": \"abajo\", \"message\": \"\"}` to topic `TOURTLESIM_001`\n",
            "Send `{\"my_id\": \"002\", \"robot_id\": \"5\", \"comando\": \"derecha\", \"message\": \"\"}` to topic `TOURTLESIM_001`\n",
            "Send `{\"my_id\": \"002\", \"robot_id\": \"5\", \"comando\": \"abajo\", \"message\": \"\"}` to topic `TOURTLESIM_001`\n"
          ]
        }
      ]
    },
    {
      "cell_type": "code",
      "source": [
        "mqtt.publish(\"4\",\"inicio\")\n",
        "for x in range(0,12):\n",
        "  mqtt.publish(\"4\",\"derecha\")\n",
        "  time.sleep(RETARDO)\n",
        "for x in range(0,12):\n",
        "  mqtt.publish(\"4\",\"abajo\")\n",
        "  time.sleep(RETARDO)"
      ],
      "metadata": {
        "colab": {
          "base_uri": "https://localhost:8080/"
        },
        "id": "bjkAfLWyFjjH",
        "outputId": "5bc34a39-5605-4c2f-ef64-888b8b1ed65f"
      },
      "execution_count": 15,
      "outputs": [
        {
          "output_type": "stream",
          "name": "stdout",
          "text": [
            "Send `{\"my_id\": \"002\", \"robot_id\": \"4\", \"comando\": \"inicio\", \"message\": \"\"}` to topic `TOURTLESIM_001`\n",
            "Send `{\"my_id\": \"002\", \"robot_id\": \"4\", \"comando\": \"derecha\", \"message\": \"\"}` to topic `TOURTLESIM_001`\n",
            "Send `{\"my_id\": \"002\", \"robot_id\": \"4\", \"comando\": \"derecha\", \"message\": \"\"}` to topic `TOURTLESIM_001`\n",
            "Send `{\"my_id\": \"002\", \"robot_id\": \"4\", \"comando\": \"derecha\", \"message\": \"\"}` to topic `TOURTLESIM_001`\n",
            "Send `{\"my_id\": \"002\", \"robot_id\": \"4\", \"comando\": \"derecha\", \"message\": \"\"}` to topic `TOURTLESIM_001`\n",
            "Send `{\"my_id\": \"002\", \"robot_id\": \"4\", \"comando\": \"derecha\", \"message\": \"\"}` to topic `TOURTLESIM_001`\n",
            "Send `{\"my_id\": \"002\", \"robot_id\": \"4\", \"comando\": \"derecha\", \"message\": \"\"}` to topic `TOURTLESIM_001`\n",
            "Send `{\"my_id\": \"002\", \"robot_id\": \"4\", \"comando\": \"derecha\", \"message\": \"\"}` to topic `TOURTLESIM_001`\n",
            "Send `{\"my_id\": \"002\", \"robot_id\": \"4\", \"comando\": \"derecha\", \"message\": \"\"}` to topic `TOURTLESIM_001`\n",
            "Send `{\"my_id\": \"002\", \"robot_id\": \"4\", \"comando\": \"derecha\", \"message\": \"\"}` to topic `TOURTLESIM_001`\n",
            "Send `{\"my_id\": \"002\", \"robot_id\": \"4\", \"comando\": \"derecha\", \"message\": \"\"}` to topic `TOURTLESIM_001`\n",
            "Send `{\"my_id\": \"002\", \"robot_id\": \"4\", \"comando\": \"derecha\", \"message\": \"\"}` to topic `TOURTLESIM_001`\n",
            "Send `{\"my_id\": \"002\", \"robot_id\": \"4\", \"comando\": \"derecha\", \"message\": \"\"}` to topic `TOURTLESIM_001`\n",
            "Send `{\"my_id\": \"002\", \"robot_id\": \"4\", \"comando\": \"abajo\", \"message\": \"\"}` to topic `TOURTLESIM_001`\n",
            "Send `{\"my_id\": \"002\", \"robot_id\": \"4\", \"comando\": \"abajo\", \"message\": \"\"}` to topic `TOURTLESIM_001`\n",
            "Send `{\"my_id\": \"002\", \"robot_id\": \"4\", \"comando\": \"abajo\", \"message\": \"\"}` to topic `TOURTLESIM_001`\n",
            "Send `{\"my_id\": \"002\", \"robot_id\": \"4\", \"comando\": \"abajo\", \"message\": \"\"}` to topic `TOURTLESIM_001`\n",
            "Send `{\"my_id\": \"002\", \"robot_id\": \"4\", \"comando\": \"abajo\", \"message\": \"\"}` to topic `TOURTLESIM_001`\n",
            "Send `{\"my_id\": \"002\", \"robot_id\": \"4\", \"comando\": \"abajo\", \"message\": \"\"}` to topic `TOURTLESIM_001`\n",
            "Send `{\"my_id\": \"002\", \"robot_id\": \"4\", \"comando\": \"abajo\", \"message\": \"\"}` to topic `TOURTLESIM_001`\n",
            "Send `{\"my_id\": \"002\", \"robot_id\": \"4\", \"comando\": \"abajo\", \"message\": \"\"}` to topic `TOURTLESIM_001`\n",
            "Send `{\"my_id\": \"002\", \"robot_id\": \"4\", \"comando\": \"abajo\", \"message\": \"\"}` to topic `TOURTLESIM_001`\n",
            "Send `{\"my_id\": \"002\", \"robot_id\": \"4\", \"comando\": \"abajo\", \"message\": \"\"}` to topic `TOURTLESIM_001`\n",
            "Send `{\"my_id\": \"002\", \"robot_id\": \"4\", \"comando\": \"abajo\", \"message\": \"\"}` to topic `TOURTLESIM_001`\n",
            "Send `{\"my_id\": \"002\", \"robot_id\": \"4\", \"comando\": \"abajo\", \"message\": \"\"}` to topic `TOURTLESIM_001`\n"
          ]
        }
      ]
    }
  ]
}