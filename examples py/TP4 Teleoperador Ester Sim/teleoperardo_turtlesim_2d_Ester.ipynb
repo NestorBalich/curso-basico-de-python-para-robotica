{
  "cells": [
    {
      "cell_type": "markdown",
      "metadata": {
        "colab_type": "text",
        "id": "view-in-github"
      },
      "source": [
        "<a href=\"https://colab.research.google.com/github/NestorBalich/curso-basico-de-python-para-robotica/blob/main/01_teleoperardo_turtlesim_2d_Ester.ipynb\" target=\"_parent\"><img src=\"https://colab.research.google.com/assets/colab-badge.svg\" alt=\"Open In Colab\"/></a>"
      ]
    },
    {
      "cell_type": "markdown",
      "metadata": {
        "id": "NAOfibAx17OF"
      },
      "source": [
        "# Instalando libreria PAHO MQTT\n",
        "Esta libreria nos permite utilizar el protocolo MqTT en nuestro programa"
      ]
    },
    {
      "cell_type": "code",
      "execution_count": 1,
      "metadata": {
        "id": "kNznmbwJi45e"
      },
      "outputs": [],
      "source": [
        "!pip  install -qq paho-mqtt"
      ]
    },
    {
      "cell_type": "markdown",
      "metadata": {
        "id": "poY6IuqC2To1"
      },
      "source": [
        "# Creamos funciones de comunicación\n",
        "Estas que utilizaremos para gestionar la comunicación por API"
      ]
    },
    {
      "cell_type": "code",
      "execution_count": 3,
      "metadata": {
        "id": "Z0MVFhMT_TNz"
      },
      "outputs": [],
      "source": [
        "import requests\n",
        "import json\n",
        "import time\n",
        "\t\t "
      ]
    },
    {
      "cell_type": "code",
      "execution_count": 4,
      "metadata": {},
      "outputs": [],
      "source": [
        "def publish(robot_id,comando,valor):\n",
        "    robot_name = \"Robot\" + str(robot_id)\n",
        "    data={\"apikey\": \"acc$2g1\",\"user_id\": \"Grupo 1\",\"robot_id\":robot_id,\"robot_name\":robot_name,\"command\":comando,\"value\":valor}\n",
        "    response = requests.post('http://8.219.78.29:8000/Ester', json=data)\n",
        "\n",
        "    print(\"Status code: \", response.status_code)\n",
        "    print(\"Printing Entire Post Request\")\n",
        "    print(response.json())\n"
      ]
    },
    {
      "cell_type": "markdown",
      "metadata": {
        "id": "bKxWm9c2_0QS"
      },
      "source": []
    },
    {
      "cell_type": "markdown",
      "metadata": {
        "id": "-eMq4uP1_t8H"
      },
      "source": [
        "# Importamos libreria time para controlar retardos"
      ]
    },
    {
      "cell_type": "code",
      "execution_count": 6,
      "metadata": {
        "id": "GW_5-K2J2FQE"
      },
      "outputs": [
        {
          "name": "stdout",
          "output_type": "stream",
          "text": [
            "Status code:  200\n",
            "Printing Entire Post Request\n",
            "{'command': 'avanzar', 'value': 'ok'}\n"
          ]
        }
      ],
      "source": [
        "\n",
        "RETARDO=0.1\n",
        "\n",
        "publish(\"1\",\"avanzar\",\"1\")"
      ]
    },
    {
      "cell_type": "code",
      "execution_count": 7,
      "metadata": {
        "colab": {
          "base_uri": "https://localhost:8080/"
        },
        "id": "R3qlnfgSqa4F",
        "outputId": "d07c0591-ba85-4f88-85bb-52f0ac49dd67"
      },
      "outputs": [
        {
          "name": "stdout",
          "output_type": "stream",
          "text": [
            "Status code:  200\n",
            "Printing Entire Post Request\n",
            "{'command': 'inicio', 'value': 'ok'}\n"
          ]
        }
      ],
      "source": [
        "publish(\"1\",\"inicio\",\"1\")"
      ]
    },
    {
      "cell_type": "code",
      "execution_count": 9,
      "metadata": {},
      "outputs": [
        {
          "name": "stdout",
          "output_type": "stream",
          "text": [
            "Status code:  200\n",
            "Printing Entire Post Request\n",
            "{'command': 'avanzar', 'value': 'ok'}\n"
          ]
        }
      ],
      "source": [
        "publish(\"1\",\"avanzar\",\"10\")"
      ]
    },
    {
      "cell_type": "code",
      "execution_count": 11,
      "metadata": {},
      "outputs": [
        {
          "name": "stdout",
          "output_type": "stream",
          "text": [
            "Status code:  200\n",
            "Printing Entire Post Request\n",
            "{'command': 'rotar', 'value': 'ok'}\n"
          ]
        }
      ],
      "source": [
        "publish(\"1\",\"rotar\",\"0\")"
      ]
    },
    {
      "cell_type": "code",
      "execution_count": 12,
      "metadata": {},
      "outputs": [
        {
          "name": "stdout",
          "output_type": "stream",
          "text": [
            "Status code:  200\n",
            "Printing Entire Post Request\n",
            "{'command': 'retroceder', 'value': 'ok'}\n"
          ]
        }
      ],
      "source": [
        "publish(\"1\",\"retroceder\",\"1\")"
      ]
    },
    {
      "cell_type": "code",
      "execution_count": 21,
      "metadata": {
        "colab": {
          "base_uri": "https://localhost:8080/"
        },
        "id": "wp6ku8XgnuCc",
        "outputId": "babfef22-8571-4424-ae52-2ca80bcf82c9"
      },
      "outputs": [
        {
          "name": "stdout",
          "output_type": "stream",
          "text": [
            "Status code:  200\n",
            "Printing Entire Post Request\n",
            "{'command': 'inicio', 'value': 'ok'}\n",
            "Status code:  200\n",
            "Printing Entire Post Request\n",
            "{'command': 'inicio', 'value': 'ok'}\n",
            "Status code:  200\n",
            "Printing Entire Post Request\n",
            "{'command': 'inicio', 'value': 'ok'}\n",
            "Status code:  200\n",
            "Printing Entire Post Request\n",
            "{'command': 'inicio', 'value': 'ok'}\n",
            "Status code:  200\n",
            "Printing Entire Post Request\n",
            "{'command': 'inicio', 'value': 'ok'}\n"
          ]
        }
      ],
      "source": [
        "for x  in range(1,6):\n",
        "  publish(str(x),\"inicio\",\"1\")\n",
        "  time.sleep(RETARDO)"
      ]
    },
    {
      "cell_type": "code",
      "execution_count": 14,
      "metadata": {
        "colab": {
          "base_uri": "https://localhost:8080/"
        },
        "id": "JiWODjPlnJtX",
        "outputId": "004d3941-e711-4b11-c2b2-5c02c7c4bee8"
      },
      "outputs": [
        {
          "name": "stdout",
          "output_type": "stream",
          "text": [
            "Status code:  200\n",
            "Printing Entire Post Request\n",
            "{'command': 'mensaje', 'value': 'valor retornado de mensaje...'}\n"
          ]
        }
      ],
      "source": [
        "publish(\"1\",\"mensaje\",\"Hola soy el robot 1\")"
      ]
    },
    {
      "cell_type": "code",
      "execution_count": 18,
      "metadata": {
        "colab": {
          "base_uri": "https://localhost:8080/"
        },
        "id": "Qi_8BT2AEQF_",
        "outputId": "1297851b-57c0-4986-9512-0b0abbf23c07"
      },
      "outputs": [
        {
          "name": "stdout",
          "output_type": "stream",
          "text": [
            "Status code:  200\n",
            "Printing Entire Post Request\n",
            "{'command': 'rotar', 'value': 'ok'}\n",
            "Status code:  200\n",
            "Printing Entire Post Request\n",
            "{'command': 'avanzar', 'value': 'ok'}\n"
          ]
        }
      ],
      "source": [
        "publish(\"3\",\"rotar\",\"90\")\n",
        "time.sleep(RETARDO)\n",
        "publish(\"3\",\"avanzar\",\"10\")\n",
        "time.sleep(RETARDO)"
      ]
    },
    {
      "cell_type": "code",
      "execution_count": 19,
      "metadata": {
        "colab": {
          "base_uri": "https://localhost:8080/"
        },
        "id": "C8nqqrX3DtxV",
        "outputId": "5883decf-bb4b-48ce-acbe-ced55cccf88b"
      },
      "outputs": [
        {
          "name": "stdout",
          "output_type": "stream",
          "text": [
            "Status code:  200\n",
            "Printing Entire Post Request\n",
            "{'command': 'rotar', 'value': 'ok'}\n",
            "Status code:  200\n",
            "Printing Entire Post Request\n",
            "{'command': 'avanzar', 'value': 'ok'}\n",
            "Status code:  200\n",
            "Printing Entire Post Request\n",
            "{'command': 'avanzar', 'value': 'ok'}\n",
            "Status code:  200\n",
            "Printing Entire Post Request\n",
            "{'command': 'avanzar', 'value': 'ok'}\n",
            "Status code:  200\n",
            "Printing Entire Post Request\n",
            "{'command': 'avanzar', 'value': 'ok'}\n"
          ]
        }
      ],
      "source": [
        "publish(\"2\",\"rotar\",\"30\")\n",
        "time.sleep(RETARDO)\n",
        "publish(\"2\",\"avanzar\",\"10\")\n",
        "time.sleep(RETARDO)\n",
        "publish(\"2\",\"avanzar\",\"10\")\n",
        "time.sleep(RETARDO)\n",
        "publish(\"2\",\"avanzar\",\"10\")\n",
        "time.sleep(RETARDO)\n",
        "publish(\"2\",\"avanzar\",\"10\")\n",
        "time.sleep(RETARDO)"
      ]
    },
    {
      "cell_type": "code",
      "execution_count": 23,
      "metadata": {
        "colab": {
          "base_uri": "https://localhost:8080/"
        },
        "id": "wVUAS_pxEXIs",
        "outputId": "62ed9e23-558d-42bd-c6cf-d2170119d8fd"
      },
      "outputs": [
        {
          "name": "stdout",
          "output_type": "stream",
          "text": [
            "Status code:  200\n",
            "Printing Entire Post Request\n",
            "{'command': 'inicio', 'value': 'ok'}\n",
            "Status code:  200\n",
            "Printing Entire Post Request\n",
            "{'command': 'rotar', 'value': 'ok'}\n",
            "Status code:  200\n",
            "Printing Entire Post Request\n",
            "{'command': 'avanzar', 'value': 'ok'}\n",
            "Status code:  200\n",
            "Printing Entire Post Request\n",
            "{'command': 'avanzar', 'value': 'ok'}\n",
            "Status code:  200\n",
            "Printing Entire Post Request\n",
            "{'command': 'avanzar', 'value': 'ok'}\n",
            "Status code:  200\n",
            "Printing Entire Post Request\n",
            "{'command': 'avanzar', 'value': 'ok'}\n",
            "Status code:  200\n",
            "Printing Entire Post Request\n",
            "{'command': 'avanzar', 'value': 'ok'}\n",
            "Status code:  200\n",
            "Printing Entire Post Request\n",
            "{'command': 'avanzar', 'value': 'ok'}\n",
            "Status code:  200\n",
            "Printing Entire Post Request\n",
            "{'command': 'avanzar', 'value': 'ok'}\n",
            "Status code:  200\n",
            "Printing Entire Post Request\n",
            "{'command': 'avanzar', 'value': 'ok'}\n",
            "Status code:  200\n",
            "Printing Entire Post Request\n",
            "{'command': 'avanzar', 'value': 'ok'}\n",
            "Status code:  200\n",
            "Printing Entire Post Request\n",
            "{'command': 'avanzar', 'value': 'ok'}\n",
            "Status code:  200\n",
            "Printing Entire Post Request\n",
            "{'command': 'rotar', 'value': 'ok'}\n",
            "Status code:  200\n",
            "Printing Entire Post Request\n",
            "{'command': 'avanzar', 'value': 'ok'}\n",
            "Status code:  200\n",
            "Printing Entire Post Request\n",
            "{'command': 'avanzar', 'value': 'ok'}\n",
            "Status code:  200\n",
            "Printing Entire Post Request\n",
            "{'command': 'avanzar', 'value': 'ok'}\n",
            "Status code:  200\n",
            "Printing Entire Post Request\n",
            "{'command': 'avanzar', 'value': 'ok'}\n",
            "Status code:  200\n",
            "Printing Entire Post Request\n",
            "{'command': 'avanzar', 'value': 'ok'}\n",
            "Status code:  200\n",
            "Printing Entire Post Request\n",
            "{'command': 'avanzar', 'value': 'ok'}\n",
            "Status code:  200\n",
            "Printing Entire Post Request\n",
            "{'command': 'avanzar', 'value': 'ok'}\n",
            "Status code:  200\n",
            "Printing Entire Post Request\n",
            "{'command': 'avanzar', 'value': 'ok'}\n",
            "Status code:  200\n",
            "Printing Entire Post Request\n",
            "{'command': 'avanzar', 'value': 'ok'}\n",
            "Status code:  200\n",
            "Printing Entire Post Request\n",
            "{'command': 'avanzar', 'value': 'ok'}\n"
          ]
        }
      ],
      "source": [
        "publish(\"5\",\"inicio\",\"1\")\n",
        "time.sleep(1)\n",
        "for x in range(0,2):\n",
        "  publish(\"5\",\"rotar\",\"20\")\n",
        "  time.sleep(RETARDO)\n",
        "  for x2 in range(0,10):\n",
        "    publish(\"5\",\"avanzar\",\"1\")\n",
        "    time.sleep(RETARDO)"
      ]
    },
    {
      "cell_type": "code",
      "execution_count": 27,
      "metadata": {
        "colab": {
          "base_uri": "https://localhost:8080/"
        },
        "id": "bjkAfLWyFjjH",
        "outputId": "5bc34a39-5605-4c2f-ef64-888b8b1ed65f"
      },
      "outputs": [
        {
          "name": "stdout",
          "output_type": "stream",
          "text": [
            "Status code:  200\n",
            "Printing Entire Post Request\n",
            "{'command': 'inicio', 'value': 'ok'}\n",
            "Status code:  200\n",
            "Printing Entire Post Request\n",
            "{'command': 'rotar', 'value': 'ok'}\n",
            "Status code:  200\n",
            "Printing Entire Post Request\n",
            "{'command': 'avanzar', 'value': 'ok'}\n",
            "Status code:  200\n",
            "Printing Entire Post Request\n",
            "{'command': 'avanzar', 'value': 'ok'}\n",
            "Status code:  200\n",
            "Printing Entire Post Request\n",
            "{'command': 'avanzar', 'value': 'ok'}\n",
            "Status code:  200\n",
            "Printing Entire Post Request\n",
            "{'command': 'avanzar', 'value': 'ok'}\n",
            "Status code:  200\n",
            "Printing Entire Post Request\n",
            "{'command': 'avanzar', 'value': 'ok'}\n",
            "Status code:  200\n",
            "Printing Entire Post Request\n",
            "{'command': 'avanzar', 'value': 'ok'}\n",
            "Status code:  200\n",
            "Printing Entire Post Request\n",
            "{'command': 'avanzar', 'value': 'ok'}\n",
            "Status code:  200\n",
            "Printing Entire Post Request\n",
            "{'command': 'avanzar', 'value': 'ok'}\n",
            "Status code:  200\n",
            "Printing Entire Post Request\n",
            "{'command': 'avanzar', 'value': 'ok'}\n",
            "Status code:  200\n",
            "Printing Entire Post Request\n",
            "{'command': 'avanzar', 'value': 'ok'}\n",
            "Status code:  200\n",
            "Printing Entire Post Request\n",
            "{'command': 'avanzar', 'value': 'ok'}\n",
            "Status code:  200\n",
            "Printing Entire Post Request\n",
            "{'command': 'avanzar', 'value': 'ok'}\n"
          ]
        }
      ],
      "source": [
        "publish(\"4\",\"inicio\",\"1\")\n",
        "\n",
        "publish(\"4\",\"rotar\",\"180\")\n",
        "  #time.sleep(RETARDO)\n",
        "for x in range(0,12):\n",
        "  publish(\"4\",\"avanzar\",\"10\")\n",
        "  #time.sleep(RETARDO)"
      ]
    },
    {
      "cell_type": "code",
      "execution_count": 37,
      "metadata": {},
      "outputs": [
        {
          "name": "stdout",
          "output_type": "stream",
          "text": [
            "Status code:  200\n",
            "Printing Entire Post Request\n",
            "{'command': 'inicio', 'value': 'ok'}\n",
            "Status code:  200\n",
            "Printing Entire Post Request\n",
            "{'command': 'inicio', 'value': 'ok'}\n",
            "Status code:  200\n",
            "Printing Entire Post Request\n",
            "{'command': 'inicio', 'value': 'ok'}\n",
            "Status code:  200\n",
            "Printing Entire Post Request\n",
            "{'command': 'inicio', 'value': 'ok'}\n",
            "Status code:  200\n",
            "Printing Entire Post Request\n",
            "{'command': 'inicio', 'value': 'ok'}\n",
            "Status code:  200\n",
            "Printing Entire Post Request\n",
            "{'command': 'inicio', 'value': 'ok'}\n",
            "Status code:  200\n",
            "Printing Entire Post Request\n",
            "{'command': 'avanzar', 'value': 'ok'}\n",
            "Status code:  200\n",
            "Printing Entire Post Request\n",
            "{'command': 'avanzar', 'value': 'ok'}\n",
            "Status code:  200\n",
            "Printing Entire Post Request\n",
            "{'command': 'avanzar', 'value': 'ok'}\n",
            "Status code:  200\n",
            "Printing Entire Post Request\n",
            "{'command': 'avanzar', 'value': 'ok'}\n",
            "Status code:  200\n",
            "Printing Entire Post Request\n",
            "{'command': 'avanzar', 'value': 'ok'}\n",
            "Status code:  200\n",
            "Printing Entire Post Request\n",
            "{'command': 'avanzar', 'value': 'ok'}\n",
            "Status code:  200\n",
            "Printing Entire Post Request\n",
            "{'command': 'avanzar', 'value': 'ok'}\n",
            "Status code:  200\n",
            "Printing Entire Post Request\n",
            "{'command': 'avanzar', 'value': 'ok'}\n",
            "Status code:  200\n",
            "Printing Entire Post Request\n",
            "{'command': 'avanzar', 'value': 'ok'}\n",
            "Status code:  200\n",
            "Printing Entire Post Request\n",
            "{'command': 'avanzar', 'value': 'ok'}\n",
            "Status code:  200\n",
            "Printing Entire Post Request\n",
            "{'command': 'avanzar', 'value': 'ok'}\n",
            "Status code:  200\n",
            "Printing Entire Post Request\n",
            "{'command': 'avanzar', 'value': 'ok'}\n",
            "Status code:  200\n",
            "Printing Entire Post Request\n",
            "{'command': 'avanzar', 'value': 'ok'}\n",
            "Status code:  200\n",
            "Printing Entire Post Request\n",
            "{'command': 'avanzar', 'value': 'ok'}\n",
            "Status code:  200\n",
            "Printing Entire Post Request\n",
            "{'command': 'avanzar', 'value': 'ok'}\n",
            "Status code:  200\n",
            "Printing Entire Post Request\n",
            "{'command': 'avanzar', 'value': 'ok'}\n",
            "Status code:  200\n",
            "Printing Entire Post Request\n",
            "{'command': 'avanzar', 'value': 'ok'}\n",
            "Status code:  200\n",
            "Printing Entire Post Request\n",
            "{'command': 'avanzar', 'value': 'ok'}\n",
            "Status code:  200\n",
            "Printing Entire Post Request\n",
            "{'command': 'avanzar', 'value': 'ok'}\n",
            "Status code:  200\n",
            "Printing Entire Post Request\n",
            "{'command': 'avanzar', 'value': 'ok'}\n",
            "Status code:  200\n",
            "Printing Entire Post Request\n",
            "{'command': 'avanzar', 'value': 'ok'}\n",
            "Status code:  200\n",
            "Printing Entire Post Request\n",
            "{'command': 'avanzar', 'value': 'ok'}\n",
            "Status code:  200\n",
            "Printing Entire Post Request\n",
            "{'command': 'avanzar', 'value': 'ok'}\n",
            "Status code:  200\n",
            "Printing Entire Post Request\n",
            "{'command': 'avanzar', 'value': 'ok'}\n",
            "Status code:  200\n",
            "Printing Entire Post Request\n",
            "{'command': 'avanzar', 'value': 'ok'}\n",
            "Status code:  200\n",
            "Printing Entire Post Request\n",
            "{'command': 'avanzar', 'value': 'ok'}\n",
            "Status code:  200\n",
            "Printing Entire Post Request\n",
            "{'command': 'avanzar', 'value': 'ok'}\n",
            "Status code:  200\n",
            "Printing Entire Post Request\n",
            "{'command': 'avanzar', 'value': 'ok'}\n",
            "Status code:  200\n",
            "Printing Entire Post Request\n",
            "{'command': 'avanzar', 'value': 'ok'}\n",
            "Status code:  200\n",
            "Printing Entire Post Request\n",
            "{'command': 'avanzar', 'value': 'ok'}\n",
            "Status code:  200\n",
            "Printing Entire Post Request\n",
            "{'command': 'avanzar', 'value': 'ok'}\n",
            "Status code:  200\n",
            "Printing Entire Post Request\n",
            "{'command': 'avanzar', 'value': 'ok'}\n",
            "Status code:  200\n",
            "Printing Entire Post Request\n",
            "{'command': 'avanzar', 'value': 'ok'}\n",
            "Status code:  200\n",
            "Printing Entire Post Request\n",
            "{'command': 'avanzar', 'value': 'ok'}\n",
            "Status code:  200\n",
            "Printing Entire Post Request\n",
            "{'command': 'avanzar', 'value': 'ok'}\n",
            "Status code:  200\n",
            "Printing Entire Post Request\n",
            "{'command': 'avanzar', 'value': 'ok'}\n",
            "Status code:  200\n",
            "Printing Entire Post Request\n",
            "{'command': 'avanzar', 'value': 'ok'}\n",
            "Status code:  200\n",
            "Printing Entire Post Request\n",
            "{'command': 'avanzar', 'value': 'ok'}\n",
            "Status code:  200\n",
            "Printing Entire Post Request\n",
            "{'command': 'avanzar', 'value': 'ok'}\n",
            "Status code:  200\n",
            "Printing Entire Post Request\n",
            "{'command': 'avanzar', 'value': 'ok'}\n",
            "Status code:  200\n",
            "Printing Entire Post Request\n",
            "{'command': 'avanzar', 'value': 'ok'}\n",
            "Status code:  200\n",
            "Printing Entire Post Request\n",
            "{'command': 'avanzar', 'value': 'ok'}\n",
            "Status code:  200\n",
            "Printing Entire Post Request\n",
            "{'command': 'avanzar', 'value': 'ok'}\n",
            "Status code:  200\n",
            "Printing Entire Post Request\n",
            "{'command': 'avanzar', 'value': 'ok'}\n",
            "Status code:  200\n",
            "Printing Entire Post Request\n",
            "{'command': 'avanzar', 'value': 'ok'}\n",
            "Status code:  200\n",
            "Printing Entire Post Request\n",
            "{'command': 'avanzar', 'value': 'ok'}\n",
            "Status code:  200\n",
            "Printing Entire Post Request\n",
            "{'command': 'avanzar', 'value': 'ok'}\n",
            "Status code:  200\n",
            "Printing Entire Post Request\n",
            "{'command': 'avanzar', 'value': 'ok'}\n",
            "Status code:  200\n",
            "Printing Entire Post Request\n",
            "{'command': 'avanzar', 'value': 'ok'}\n",
            "Status code:  200\n",
            "Printing Entire Post Request\n",
            "{'command': 'avanzar', 'value': 'ok'}\n",
            "Status code:  200\n",
            "Printing Entire Post Request\n",
            "{'command': 'avanzar', 'value': 'ok'}\n",
            "Status code:  200\n",
            "Printing Entire Post Request\n",
            "{'command': 'avanzar', 'value': 'ok'}\n",
            "Status code:  200\n",
            "Printing Entire Post Request\n",
            "{'command': 'avanzar', 'value': 'ok'}\n",
            "Status code:  200\n",
            "Printing Entire Post Request\n",
            "{'command': 'avanzar', 'value': 'ok'}\n",
            "Status code:  200\n",
            "Printing Entire Post Request\n",
            "{'command': 'avanzar', 'value': 'ok'}\n",
            "Status code:  200\n",
            "Printing Entire Post Request\n",
            "{'command': 'avanzar', 'value': 'ok'}\n",
            "Status code:  200\n",
            "Printing Entire Post Request\n",
            "{'command': 'avanzar', 'value': 'ok'}\n",
            "Status code:  200\n",
            "Printing Entire Post Request\n",
            "{'command': 'avanzar', 'value': 'ok'}\n",
            "Status code:  200\n",
            "Printing Entire Post Request\n",
            "{'command': 'avanzar', 'value': 'ok'}\n",
            "Status code:  200\n",
            "Printing Entire Post Request\n",
            "{'command': 'avanzar', 'value': 'ok'}\n",
            "Status code:  200\n",
            "Printing Entire Post Request\n",
            "{'command': 'retroceder', 'value': 'ok'}\n",
            "Status code:  200\n",
            "Printing Entire Post Request\n",
            "{'command': 'retroceder', 'value': 'ok'}\n",
            "Status code:  200\n",
            "Printing Entire Post Request\n",
            "{'command': 'retroceder', 'value': 'ok'}\n",
            "Status code:  200\n",
            "Printing Entire Post Request\n",
            "{'command': 'retroceder', 'value': 'ok'}\n",
            "Status code:  200\n",
            "Printing Entire Post Request\n",
            "{'command': 'retroceder', 'value': 'ok'}\n",
            "Status code:  200\n",
            "Printing Entire Post Request\n",
            "{'command': 'retroceder', 'value': 'ok'}\n",
            "Status code:  200\n",
            "Printing Entire Post Request\n",
            "{'command': 'retroceder', 'value': 'ok'}\n",
            "Status code:  200\n",
            "Printing Entire Post Request\n",
            "{'command': 'retroceder', 'value': 'ok'}\n",
            "Status code:  200\n",
            "Printing Entire Post Request\n",
            "{'command': 'retroceder', 'value': 'ok'}\n",
            "Status code:  200\n",
            "Printing Entire Post Request\n",
            "{'command': 'retroceder', 'value': 'ok'}\n",
            "Status code:  200\n",
            "Printing Entire Post Request\n",
            "{'command': 'retroceder', 'value': 'ok'}\n",
            "Status code:  200\n",
            "Printing Entire Post Request\n",
            "{'command': 'retroceder', 'value': 'ok'}\n",
            "Status code:  200\n",
            "Printing Entire Post Request\n",
            "{'command': 'retroceder', 'value': 'ok'}\n",
            "Status code:  200\n",
            "Printing Entire Post Request\n",
            "{'command': 'retroceder', 'value': 'ok'}\n",
            "Status code:  200\n",
            "Printing Entire Post Request\n",
            "{'command': 'retroceder', 'value': 'ok'}\n",
            "Status code:  200\n",
            "Printing Entire Post Request\n",
            "{'command': 'retroceder', 'value': 'ok'}\n",
            "Status code:  200\n",
            "Printing Entire Post Request\n",
            "{'command': 'retroceder', 'value': 'ok'}\n",
            "Status code:  200\n",
            "Printing Entire Post Request\n",
            "{'command': 'retroceder', 'value': 'ok'}\n",
            "Status code:  200\n",
            "Printing Entire Post Request\n",
            "{'command': 'retroceder', 'value': 'ok'}\n",
            "Status code:  200\n",
            "Printing Entire Post Request\n",
            "{'command': 'retroceder', 'value': 'ok'}\n",
            "Status code:  200\n",
            "Printing Entire Post Request\n",
            "{'command': 'retroceder', 'value': 'ok'}\n",
            "Status code:  200\n",
            "Printing Entire Post Request\n",
            "{'command': 'retroceder', 'value': 'ok'}\n",
            "Status code:  200\n",
            "Printing Entire Post Request\n",
            "{'command': 'retroceder', 'value': 'ok'}\n",
            "Status code:  200\n",
            "Printing Entire Post Request\n",
            "{'command': 'retroceder', 'value': 'ok'}\n",
            "Status code:  200\n",
            "Printing Entire Post Request\n",
            "{'command': 'retroceder', 'value': 'ok'}\n",
            "Status code:  200\n",
            "Printing Entire Post Request\n",
            "{'command': 'retroceder', 'value': 'ok'}\n",
            "Status code:  200\n",
            "Printing Entire Post Request\n",
            "{'command': 'retroceder', 'value': 'ok'}\n",
            "Status code:  200\n",
            "Printing Entire Post Request\n",
            "{'command': 'retroceder', 'value': 'ok'}\n",
            "Status code:  200\n",
            "Printing Entire Post Request\n",
            "{'command': 'retroceder', 'value': 'ok'}\n",
            "Status code:  200\n",
            "Printing Entire Post Request\n",
            "{'command': 'retroceder', 'value': 'ok'}\n",
            "Status code:  200\n",
            "Printing Entire Post Request\n",
            "{'command': 'retroceder', 'value': 'ok'}\n",
            "Status code:  200\n",
            "Printing Entire Post Request\n",
            "{'command': 'retroceder', 'value': 'ok'}\n",
            "Status code:  200\n",
            "Printing Entire Post Request\n",
            "{'command': 'retroceder', 'value': 'ok'}\n",
            "Status code:  200\n",
            "Printing Entire Post Request\n",
            "{'command': 'retroceder', 'value': 'ok'}\n",
            "Status code:  200\n",
            "Printing Entire Post Request\n",
            "{'command': 'retroceder', 'value': 'ok'}\n",
            "Status code:  200\n",
            "Printing Entire Post Request\n",
            "{'command': 'retroceder', 'value': 'ok'}\n",
            "Status code:  200\n",
            "Printing Entire Post Request\n",
            "{'command': 'retroceder', 'value': 'ok'}\n",
            "Status code:  200\n",
            "Printing Entire Post Request\n",
            "{'command': 'retroceder', 'value': 'ok'}\n",
            "Status code:  200\n",
            "Printing Entire Post Request\n",
            "{'command': 'retroceder', 'value': 'ok'}\n",
            "Status code:  200\n",
            "Printing Entire Post Request\n",
            "{'command': 'retroceder', 'value': 'ok'}\n",
            "Status code:  200\n",
            "Printing Entire Post Request\n",
            "{'command': 'retroceder', 'value': 'ok'}\n",
            "Status code:  200\n",
            "Printing Entire Post Request\n",
            "{'command': 'retroceder', 'value': 'ok'}\n",
            "Status code:  200\n",
            "Printing Entire Post Request\n",
            "{'command': 'retroceder', 'value': 'ok'}\n",
            "Status code:  200\n",
            "Printing Entire Post Request\n",
            "{'command': 'retroceder', 'value': 'ok'}\n",
            "Status code:  200\n",
            "Printing Entire Post Request\n",
            "{'command': 'retroceder', 'value': 'ok'}\n",
            "Status code:  200\n",
            "Printing Entire Post Request\n",
            "{'command': 'retroceder', 'value': 'ok'}\n",
            "Status code:  200\n",
            "Printing Entire Post Request\n",
            "{'command': 'retroceder', 'value': 'ok'}\n",
            "Status code:  200\n",
            "Printing Entire Post Request\n",
            "{'command': 'retroceder', 'value': 'ok'}\n",
            "Status code:  200\n",
            "Printing Entire Post Request\n",
            "{'command': 'retroceder', 'value': 'ok'}\n",
            "Status code:  200\n",
            "Printing Entire Post Request\n",
            "{'command': 'retroceder', 'value': 'ok'}\n",
            "Status code:  200\n",
            "Printing Entire Post Request\n",
            "{'command': 'retroceder', 'value': 'ok'}\n",
            "Status code:  200\n",
            "Printing Entire Post Request\n",
            "{'command': 'retroceder', 'value': 'ok'}\n",
            "Status code:  200\n",
            "Printing Entire Post Request\n",
            "{'command': 'retroceder', 'value': 'ok'}\n",
            "Status code:  200\n",
            "Printing Entire Post Request\n",
            "{'command': 'retroceder', 'value': 'ok'}\n",
            "Status code:  200\n",
            "Printing Entire Post Request\n",
            "{'command': 'retroceder', 'value': 'ok'}\n",
            "Status code:  200\n",
            "Printing Entire Post Request\n",
            "{'command': 'retroceder', 'value': 'ok'}\n",
            "Status code:  200\n",
            "Printing Entire Post Request\n",
            "{'command': 'retroceder', 'value': 'ok'}\n",
            "Status code:  200\n",
            "Printing Entire Post Request\n",
            "{'command': 'retroceder', 'value': 'ok'}\n",
            "Status code:  200\n",
            "Printing Entire Post Request\n",
            "{'command': 'retroceder', 'value': 'ok'}\n",
            "Status code:  200\n",
            "Printing Entire Post Request\n",
            "{'command': 'retroceder', 'value': 'ok'}\n"
          ]
        }
      ],
      "source": [
        "for x in range(1,7):\n",
        "  publish(str(x),\"inicio\",\"0\")\n",
        "  time.sleep(0.5)\n",
        "\n",
        "for x in range(0,10):\n",
        "  publish(\"1\",\"avanzar\",\"10\")\n",
        "  publish(\"2\",\"avanzar\",\"10\")\n",
        "  publish(\"3\",\"avanzar\",\"10\")\n",
        "  publish(\"4\",\"avanzar\",\"10\")\n",
        "  publish(\"5\",\"avanzar\",\"10\")\n",
        "  publish(\"6\",\"avanzar\",\"10\")\n",
        "  #time.sleep(RETARDO)\n",
        "# publish(\"1\",\"rotar\",\"900\")\n",
        "# publish(\"2\",\"rotar\",\"900\")\n",
        "# publish(\"3\",\"rotar\",\"900\")\n",
        "# publish(\"4\",\"rotar\",\"900\")\n",
        "# publish(\"5\",\"rotar\",\"900\")\n",
        "# publish(\"6\",\"rotar\",\"900\")\n",
        "\n",
        "for x in range(0,10):\n",
        "  publish(\"1\",\"retroceder\",\"10\")\n",
        "for x in range(0,10):\n",
        "  publish(\"2\",\"retroceder\",\"10\")\n",
        "for x in range(0,10):\n",
        "  publish(\"3\",\"retroceder\",\"10\")\n",
        "for x in range(0,10):\n",
        "  publish(\"4\",\"retroceder\",\"10\")\n",
        "for x in range(0,10):\n",
        "  publish(\"5\",\"retroceder\",\"10\")\n",
        "for x in range(0,10):\n",
        "  publish(\"6\",\"retroceder\",\"10\")"
      ]
    },
    {
      "cell_type": "code",
      "execution_count": 36,
      "metadata": {},
      "outputs": [
        {
          "name": "stdout",
          "output_type": "stream",
          "text": [
            "Status code:  200\n",
            "Printing Entire Post Request\n",
            "{'command': 'inicio', 'value': 'ok'}\n",
            "Status code:  200\n",
            "Printing Entire Post Request\n",
            "{'command': 'avanzar', 'value': 'ok'}\n",
            "Status code:  200\n",
            "Printing Entire Post Request\n",
            "{'command': 'avanzar', 'value': 'ok'}\n",
            "Status code:  200\n",
            "Printing Entire Post Request\n",
            "{'command': 'avanzar', 'value': 'ok'}\n",
            "Status code:  200\n",
            "Printing Entire Post Request\n",
            "{'command': 'derecha', 'value': 'ok'}\n",
            "Status code:  200\n",
            "Printing Entire Post Request\n",
            "{'command': 'derecha', 'value': 'ok'}\n",
            "Status code:  200\n",
            "Printing Entire Post Request\n",
            "{'command': 'derecha', 'value': 'ok'}\n",
            "Status code:  200\n",
            "Printing Entire Post Request\n",
            "{'command': 'izquierda', 'value': 'ok'}\n",
            "Status code:  200\n",
            "Printing Entire Post Request\n",
            "{'command': 'izquierda', 'value': 'ok'}\n",
            "Status code:  200\n",
            "Printing Entire Post Request\n",
            "{'command': 'izquierda', 'value': 'ok'}\n",
            "Status code:  200\n",
            "Printing Entire Post Request\n",
            "{'command': 'izquierda', 'value': 'ok'}\n",
            "Status code:  200\n",
            "Printing Entire Post Request\n",
            "{'command': 'izquierda', 'value': 'ok'}\n",
            "Status code:  200\n",
            "Printing Entire Post Request\n",
            "{'command': 'derecha', 'value': 'ok'}\n"
          ]
        }
      ],
      "source": [
        "publish(\"4\",\"inicio\",\"5\")\n",
        "for x in range(0,3):\n",
        "  publish(\"4\",\"avanzar\",\"25\")\n",
        "for x in range(0,3):\n",
        "  publish(\"4\",\"derecha\",\"15\")\n",
        "for x in range(0,5):\n",
        "  publish(\"4\",\"izquierda\",\"15\")\n",
        "publish(\"4\",\"derecha\",\"35\")"
      ]
    }
  ],
  "metadata": {
    "colab": {
      "authorship_tag": "ABX9TyO4nKVby4tD0FapcbGRF088",
      "collapsed_sections": [],
      "include_colab_link": true,
      "provenance": [],
      "toc_visible": true
    },
    "kernelspec": {
      "display_name": "Python 3.10.5 64-bit",
      "language": "python",
      "name": "python3"
    },
    "language_info": {
      "codemirror_mode": {
        "name": "ipython",
        "version": 3
      },
      "file_extension": ".py",
      "mimetype": "text/x-python",
      "name": "python",
      "nbconvert_exporter": "python",
      "pygments_lexer": "ipython3",
      "version": "3.10.5"
    },
    "vscode": {
      "interpreter": {
        "hash": "740c20b0ab0f495741b4ad17c58f87745c4d86249ae39ac3905cfaa06bfc1bf8"
      }
    }
  },
  "nbformat": 4,
  "nbformat_minor": 0
}
